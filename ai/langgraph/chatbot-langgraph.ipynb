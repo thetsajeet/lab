{
 "cells": [
  {
   "cell_type": "markdown",
   "id": "b8dfb0b6",
   "metadata": {},
   "source": [
    "# Building chatbot using langgraph"
   ]
  },
  {
   "cell_type": "code",
   "execution_count": null,
   "id": "d59cfc00",
   "metadata": {},
   "outputs": [
    {
     "name": "stdout",
     "output_type": "stream",
     "text": [
      "\n",
      "\u001b[1m[\u001b[0m\u001b[34;49mnotice\u001b[0m\u001b[1;39;49m]\u001b[0m\u001b[39;49m A new release of pip is available: \u001b[0m\u001b[31;49m25.0\u001b[0m\u001b[39;49m -> \u001b[0m\u001b[32;49m25.2\u001b[0m\n",
      "\u001b[1m[\u001b[0m\u001b[34;49mnotice\u001b[0m\u001b[1;39;49m]\u001b[0m\u001b[39;49m To update, run: \u001b[0m\u001b[32;49mpip install --upgrade pip\u001b[0m\n"
     ]
    }
   ],
   "source": [
    "# installations required\n",
    "\n",
    "# !pip install -qU ipyKernel\n",
    "# !pip install -qU langgraph\n",
    "# !pip install -qU typing-extensions\n",
    "# !pip install -qU \"langchain[google-genai]\"\n",
    "# !pip install -qU dotenv"
   ]
  },
  {
   "cell_type": "code",
   "execution_count": 8,
   "id": "d8c898c6",
   "metadata": {},
   "outputs": [],
   "source": [
    "import os\n",
    "from dotenv import load_dotenv\n",
    "\n",
    "load_dotenv()\n",
    "\n",
    "GEMINI_API_KEY = os.getenv(\"GEMINI_API_KEY\")"
   ]
  },
  {
   "cell_type": "code",
   "execution_count": 5,
   "id": "63bacbd0",
   "metadata": {},
   "outputs": [],
   "source": [
    "# Building basic chatbot using langgraph\n",
    "from typing import Annotated\n",
    "from typing_extensions import TypedDict\n",
    "from langgraph.graph import StateGraph, START, END\n",
    "from langgraph.graph.message import add_messages\n",
    "\n",
    "\n",
    "class State(TypedDict):\n",
    "    # Messages have the type \"list\". The `add_messages` function\n",
    "    # in the annotation defines how this state key should be updated\n",
    "    # (in this case, it appends messages to the list, rather than overwriting them)\n",
    "    messages: Annotated[list, add_messages] # annotated helps add metadata to the type. in this case it tells messages should be appended and not overwritten\n",
    "\n",
    "graph_builder = StateGraph(State)"
   ]
  },
  {
   "cell_type": "markdown",
   "id": "f100bfcf",
   "metadata": {},
   "source": [
    "When defining a graph, the first step is to define its State. The State includes the graph's schema and reducer functions that handle state updates. In our example, State is a schema with one key: messages. The reducer function is used to append new messages to the list instead of overwriting it. Keys without a reducer annotation will overwrite previous values."
   ]
  },
  {
   "cell_type": "code",
   "execution_count": 16,
   "id": "aeec8930",
   "metadata": {},
   "outputs": [],
   "source": [
    "from langchain_google_genai import ChatGoogleGenerativeAI\n",
    "\n",
    "llm = ChatGoogleGenerativeAI(model=\"gemini-2.0-flash\", google_api_key=GEMINI_API_KEY)"
   ]
  },
  {
   "cell_type": "code",
   "execution_count": 17,
   "id": "02daebdf",
   "metadata": {},
   "outputs": [
    {
     "data": {
      "text/plain": [
       "AIMessage(content=\"I am doing well, thank you for asking! As a large language model, I don't experience emotions or feelings in the same way humans do, but I am functioning optimally and ready to assist you. How can I help you today?\", additional_kwargs={}, response_metadata={'prompt_feedback': {'block_reason': 0, 'safety_ratings': []}, 'finish_reason': 'STOP', 'model_name': 'gemini-2.0-flash', 'safety_ratings': []}, id='run--91b2b479-3283-4d58-9d7d-34c9eff2148d-0', usage_metadata={'input_tokens': 6, 'output_tokens': 50, 'total_tokens': 56, 'input_token_details': {'cache_read': 0}})"
      ]
     },
     "execution_count": 17,
     "metadata": {},
     "output_type": "execute_result"
    }
   ],
   "source": [
    "llm.invoke(\"Hello, how are you?\")  # basic test to check if llm is working"
   ]
  },
  {
   "cell_type": "code",
   "execution_count": 18,
   "id": "064a449b",
   "metadata": {},
   "outputs": [
    {
     "data": {
      "text/plain": [
       "<langgraph.graph.state.StateGraph at 0x73405c1691d0>"
      ]
     },
     "execution_count": 18,
     "metadata": {},
     "output_type": "execute_result"
    }
   ],
   "source": [
    "def chatbot(state: State):\n",
    "    return {\"messages\": [llm.invoke(state[\"messages\"])]}\n",
    "\n",
    "graph_builder.add_node(\"chatbot\", chatbot)"
   ]
  },
  {
   "cell_type": "markdown",
   "id": "967ae3b6",
   "metadata": {},
   "source": [
    "Notice how the chatbot node function takes the current State as input and returns a dictionary containing an updated messages list under the key \"messages\". This is the basic pattern for all LangGraph node functions.\n",
    "\n",
    "The add_messages function in our State will append the LLM's response messages to whatever messages are already in the state."
   ]
  },
  {
   "cell_type": "code",
   "execution_count": 19,
   "id": "de5ead27",
   "metadata": {},
   "outputs": [
    {
     "data": {
      "text/plain": [
       "<langgraph.graph.state.StateGraph at 0x73405c1691d0>"
      ]
     },
     "execution_count": 19,
     "metadata": {},
     "output_type": "execute_result"
    }
   ],
   "source": [
    "graph_builder.add_edge(START, \"chatbot\")\n",
    "graph_builder.add_edge(\"chatbot\", END)"
   ]
  },
  {
   "cell_type": "code",
   "execution_count": 20,
   "id": "c6449555",
   "metadata": {},
   "outputs": [],
   "source": [
    "graph = graph_builder.compile()"
   ]
  },
  {
   "cell_type": "code",
   "execution_count": 21,
   "id": "9a070d59",
   "metadata": {},
   "outputs": [
    {
     "data": {
      "image/png": "[encoded data removed]",
      "text/plain": [
       "<IPython.core.display.Image object>"
      ]
     },
     "metadata": {},
     "output_type": "display_data"
    }
   ],
   "source": [
    "from IPython.display import Image, display\n",
    "\n",
    "try:\n",
    "    display(Image(graph.get_graph().draw_mermaid_png()))\n",
    "except Exception:\n",
    "    # This requires some extra dependencies and is optional\n",
    "    pass"
   ]
  },
  {
   "cell_type": "code",
   "execution_count": 24,
   "id": "4ccfd55e",
   "metadata": {},
   "outputs": [
    {
     "name": "stdout",
     "output_type": "stream",
     "text": [
      "Assistant: The weather in San Francisco right now is partly cloudy and 63°F. The wind is light, blowing from the west at 6 mph.\n",
      "Assistant: Ah, New York! That's a broad question! To give you the most helpful answer, I need a little more information.  What specifically are you interested in knowing about New York?  For example, are you wondering about:\n",
      "\n",
      "*   **New York City (NYC)?**\n",
      "    *   **Specific boroughs:** Like Manhattan, Brooklyn, Queens, The Bronx, or Staten Island?\n",
      "    *   **Things to do:** Tourist attractions, restaurants, nightlife, museums, parks, etc.?\n",
      "    *   **Cost of living:** Rent, food, transportation, etc.?\n",
      "    *   **Job market:** Specific industries or careers?\n",
      "    *   **Real estate:** Buying or renting property?\n",
      "    *   **Travel:** How to get there, where to stay, etc.?\n",
      "    *   **Current events:** News, politics, local issues?\n",
      "*   **New York State (NYS)?**\n",
      "    *   **Specific regions:** Like the Hudson Valley, the Adirondacks, the Finger Lakes, etc.?\n",
      "    *   **Travel destinations:** Outside of NYC?\n",
      "    *   **Politics:** State government, laws, etc.?\n",
      "    *   **Economy:** Key industries, agriculture, etc.?\n",
      "    *   **History:** Significant events, figures, etc.?\n",
      "\n",
      "The more specific you are, the better I can assist you. Tell me what's on your mind!\n",
      "Goodbye!\n"
     ]
    }
   ],
   "source": [
    "event_history = []\n",
    "\n",
    "def stream_graph_updates(user_input: str):\n",
    "    for event in graph.stream({\"messages\": [{\"role\": \"user\", \"content\": user_input}]}):\n",
    "        event_history.append(event)\n",
    "        for value in event.values():\n",
    "            print(\"Assistant:\", value[\"messages\"][-1].content)\n",
    "\n",
    "\n",
    "while True:\n",
    "    try:\n",
    "        user_input = input(\"User: \")\n",
    "        if user_input.lower() in [\"quit\", \"exit\", \"q\"]:\n",
    "            print(\"Goodbye!\")\n",
    "            break\n",
    "        stream_graph_updates(user_input)\n",
    "    except:\n",
    "        # fallback if input() is not available\n",
    "        user_input = \"What do you know about LangGraph?\"\n",
    "        print(\"User: \" + user_input)\n",
    "        stream_graph_updates(user_input)\n",
    "        break"
   ]
  },
  {
   "cell_type": "code",
   "execution_count": 25,
   "id": "bc5ff785",
   "metadata": {},
   "outputs": [
    {
     "name": "stdout",
     "output_type": "stream",
     "text": [
      "[{'chatbot': {'messages': [AIMessage(content='The weather in San Francisco right now is partly cloudy and 63°F. The wind is light, blowing from the west at 6 mph.', additional_kwargs={}, response_metadata={'prompt_feedback': {'block_reason': 0, 'safety_ratings': []}, 'finish_reason': 'STOP', 'model_name': 'gemini-2.0-flash', 'safety_ratings': []}, id='run--c0cf1caf-bddc-4f83-b4a0-781064b1988f-0', usage_metadata={'input_tokens': 9, 'output_tokens': 32, 'total_tokens': 41, 'input_token_details': {'cache_read': 0}})]}},\n",
      " {'chatbot': {'messages': [AIMessage(content=\"Ah, New York! That's a broad question! To give you the most helpful answer, I need a little more information.  What specifically are you interested in knowing about New York?  For example, are you wondering about:\\n\\n*   **New York City (NYC)?**\\n    *   **Specific boroughs:** Like Manhattan, Brooklyn, Queens, The Bronx, or Staten Island?\\n    *   **Things to do:** Tourist attractions, restaurants, nightlife, museums, parks, etc.?\\n    *   **Cost of living:** Rent, food, transportation, etc.?\\n    *   **Job market:** Specific industries or careers?\\n    *   **Real estate:** Buying or renting property?\\n    *   **Travel:** How to get there, where to stay, etc.?\\n    *   **Current events:** News, politics, local issues?\\n*   **New York State (NYS)?**\\n    *   **Specific regions:** Like the Hudson Valley, the Adirondacks, the Finger Lakes, etc.?\\n    *   **Travel destinations:** Outside of NYC?\\n    *   **Politics:** State government, laws, etc.?\\n    *   **Economy:** Key industries, agriculture, etc.?\\n    *   **History:** Significant events, figures, etc.?\\n\\nThe more specific you are, the better I can assist you. Tell me what's on your mind!\", additional_kwargs={}, response_metadata={'prompt_feedback': {'block_reason': 0, 'safety_ratings': []}, 'finish_reason': 'STOP', 'model_name': 'gemini-2.0-flash', 'safety_ratings': []}, id='run--0f2ec902-daf8-48e4-90ee-08521fbb6473-0', usage_metadata={'input_tokens': 6, 'output_tokens': 292, 'total_tokens': 298, 'input_token_details': {'cache_read': 0}})]}}]\n"
     ]
    }
   ],
   "source": [
    "from pprint import pprint\n",
    "\n",
    "pprint(event_history)  # print the entire event history for debugging"
   ]
  }
 ],
 "metadata": {
  "kernelspec": {
   "display_name": ".venv (3.13.2)",
   "language": "python",
   "name": "python3"
  },
  "language_info": {
   "codemirror_mode": {
    "name": "ipython",
    "version": 3
   },
   "file_extension": ".py",
   "mimetype": "text/x-python",
   "name": "python",
   "nbconvert_exporter": "python",
   "pygments_lexer": "ipython3",
   "version": "3.13.2"
  }
 },
 "nbformat": 4,
 "nbformat_minor": 5
}
