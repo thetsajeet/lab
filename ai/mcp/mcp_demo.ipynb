{
 "cells": [
  {
   "cell_type": "markdown",
   "id": "c26f6485",
   "metadata": {},
   "source": [
    "# MCP with Sqlite3"
   ]
  },
  {
   "cell_type": "code",
   "execution_count": 7,
   "id": "2600542b",
   "metadata": {},
   "outputs": [],
   "source": [
    "import sqlite3\n",
    "from mcp.server.fastmcp import FastMCP"
   ]
  },
  {
   "cell_type": "code",
   "execution_count": null,
   "id": "9065a0fd",
   "metadata": {},
   "outputs": [],
   "source": [
    "mcp = FastMCP(name=\"mcp_with_sqlite3\")"
   ]
  },
  {
   "cell_type": "code",
   "execution_count": 12,
   "id": "8aad0669",
   "metadata": {},
   "outputs": [],
   "source": [
    "DB_NAME=\"demo.db\""
   ]
  },
  {
   "cell_type": "code",
   "execution_count": 13,
   "id": "f80a072f",
   "metadata": {},
   "outputs": [
    {
     "name": "stderr",
     "output_type": "stream",
     "text": [
      "Tool already exists: add_data\n"
     ]
    }
   ],
   "source": [
    "@mcp.tool()\n",
    "def add_data(query: str) -> bool:\n",
    "    \"\"\"Execute a SQL query to insert a record.\"\"\"\n",
    "    try:\n",
    "        conn = sqlite3.connect(DB_NAME)\n",
    "        conn.execute(query)\n",
    "        conn.commit()\n",
    "        conn.close()\n",
    "        return True\n",
    "    except sqlite3.Error as e:\n",
    "        print(f\"An error occurred: {e}\")\n",
    "        return False"
   ]
  },
  {
   "cell_type": "code",
   "execution_count": 14,
   "id": "28f56f00",
   "metadata": {},
   "outputs": [
    {
     "name": "stderr",
     "output_type": "stream",
     "text": [
      "Tool already exists: read_data\n"
     ]
    }
   ],
   "source": [
    "@mcp.tool()\n",
    "def read_data(query: str) -> list:\n",
    "    \"\"\"Execute a SQL query to read records.\"\"\"\n",
    "    try:\n",
    "        conn = sqlite3.connect(DB_NAME)\n",
    "        cursor = conn.execute(query)\n",
    "        results = cursor.fetchall()\n",
    "        conn.close()\n",
    "        return results\n",
    "    except sqlite3.Error as e:\n",
    "        print(f\"An error occurred: {e}\")\n",
    "        return []"
   ]
  },
  {
   "cell_type": "code",
   "execution_count": 11,
   "id": "ef1a7be1",
   "metadata": {},
   "outputs": [
    {
     "name": "stdout",
     "output_type": "stream",
     "text": [
      "Starting MCP server with SQLite3 support...\n"
     ]
    }
   ],
   "source": [
    "if __name__ == \"__main__\":\n",
    "    print(\"Starting MCP server with SQLite3 support...\")"
   ]
  },
  {
   "cell_type": "code",
   "execution_count": 27,
   "id": "b50c18d7",
   "metadata": {},
   "outputs": [],
   "source": [
    "from langchain_google_genai import ChatGoogleGenerativeAI\n",
    "import os \n",
    "from dotenv import load_dotenv\n",
    "\n",
    "load_dotenv()\n",
    "\n",
    "GEMINI_API_KEY = os.getenv(\"GEMINI_API_KEY\")\n",
    "\n",
    "llm = ChatGoogleGenerativeAI(model=\"gemini-2.0-flash\", google_api_key=GEMINI_API_KEY)"
   ]
  },
  {
   "cell_type": "code",
   "execution_count": 28,
   "id": "ff976db7",
   "metadata": {},
   "outputs": [
    {
     "data": {
      "text/plain": [
       "AIMessage(content='Hi there! How can I help you today?', additional_kwargs={}, response_metadata={'prompt_feedback': {'block_reason': 0, 'safety_ratings': []}, 'finish_reason': 'STOP', 'model_name': 'gemini-2.0-flash', 'safety_ratings': []}, id='run--f9a2e3ce-948a-4db7-9d6d-bdc2186275ec-0', usage_metadata={'input_tokens': 1, 'output_tokens': 11, 'total_tokens': 12, 'input_token_details': {'cache_read': 0}})"
      ]
     },
     "execution_count": 28,
     "metadata": {},
     "output_type": "execute_result"
    }
   ],
   "source": [
    "llm.invoke(\"hi\")"
   ]
  },
  {
   "cell_type": "code",
   "execution_count": 29,
   "id": "e22991b6",
   "metadata": {},
   "outputs": [],
   "source": [
    "SYSTEM_PROMPT = \"\"\"\n",
    "You are an AI assistant for Tool calling. Before helping the user, work with the tools to interact with the database.\n",
    "\"\"\""
   ]
  },
  {
   "cell_type": "code",
   "execution_count": null,
   "id": "7f6f43f9",
   "metadata": {},
   "outputs": [],
   "source": [
    "from langchain.agents import initialize_agent, AgentType"
   ]
  },
  {
   "cell_type": "code",
   "execution_count": 34,
   "id": "c3829fca",
   "metadata": {},
   "outputs": [],
   "source": [
    "async def get_agent():\n",
    "    \"\"\"Initialize the agent with the tools and system prompt.\"\"\"\n",
    "    return initialize_agent(\n",
    "        tools=[add_data, read_data],\n",
    "        llm=llm,\n",
    "        name=\"mcp_agent\",\n",
    "        description=\"An agent that interacts with a SQLite3 database using MCP.\",\n",
    "        system_prompt=SYSTEM_PROMPT,\n",
    "        verbose=True\n",
    "    )"
   ]
  },
  {
   "cell_type": "code",
   "execution_count": 35,
   "id": "697b62d7",
   "metadata": {},
   "outputs": [],
   "source": [
    "async def handle_user_messages(message: str, agent, agent_context):\n",
    "    async for chunk in agent.astream(message):\n",
    "        print(chunk, end=\"\", flush=True)"
   ]
  },
  {
   "cell_type": "code",
   "execution_count": 36,
   "id": "cc142f81",
   "metadata": {},
   "outputs": [
    {
     "ename": "ModuleNotFoundError",
     "evalue": "No module named 'mcp.client.fastmcp'",
     "output_type": "error",
     "traceback": [
      "\u001b[31m---------------------------------------------------------------------------\u001b[39m",
      "\u001b[31mModuleNotFoundError\u001b[39m                       Traceback (most recent call last)",
      "\u001b[36mCell\u001b[39m\u001b[36m \u001b[39m\u001b[32mIn[36]\u001b[39m\u001b[32m, line 1\u001b[39m\n\u001b[32m----> \u001b[39m\u001b[32m1\u001b[39m \u001b[38;5;28;01mfrom\u001b[39;00m\u001b[38;5;250m \u001b[39m\u001b[34;01mmcp\u001b[39;00m\u001b[34;01m.\u001b[39;00m\u001b[34;01mclient\u001b[39;00m\u001b[34;01m.\u001b[39;00m\u001b[34;01mfastmcp\u001b[39;00m\u001b[38;5;250m \u001b[39m\u001b[38;5;28;01mimport\u001b[39;00m FastMCPClient\n\u001b[32m      3\u001b[39m \u001b[38;5;66;03m# Replace with your MCP server address and port\u001b[39;00m\n\u001b[32m      4\u001b[39m client = FastMCPClient(server_url=\u001b[33m\"\u001b[39m\u001b[33mhttp://localhost:8000\u001b[39m\u001b[33m\"\u001b[39m)\n",
      "\u001b[31mModuleNotFoundError\u001b[39m: No module named 'mcp.client.fastmcp'"
     ]
    }
   ],
   "source": [
    "from mcp.client.fastmcp import FastMCPClient\n",
    "\n",
    "# Replace with your MCP server address and port\n",
    "client = FastMCPClient(server_url=\"http://localhost:8000\")\n",
    "\n",
    "# Example: Call a tool on the server\n",
    "result = client.call_tool(\"read_data\", {\"query\": \"SELECT * FROM your_table\"})\n",
    "print(result)"
   ]
  }
 ],
 "metadata": {
  "kernelspec": {
   "display_name": "mcp_demo (3.13.2)",
   "language": "python",
   "name": "python3"
  },
  "language_info": {
   "codemirror_mode": {
    "name": "ipython",
    "version": 3
   },
   "file_extension": ".py",
   "mimetype": "text/x-python",
   "name": "python",
   "nbconvert_exporter": "python",
   "pygments_lexer": "ipython3",
   "version": "3.13.2"
  }
 },
 "nbformat": 4,
 "nbformat_minor": 5
}
