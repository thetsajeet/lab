{
 "cells": [
  {
   "cell_type": "markdown",
   "id": "89800f4f",
   "metadata": {},
   "source": [
    "# Numpy\n",
    "\n",
    "- Numpy is used for scientific computing in python."
   ]
  },
  {
   "cell_type": "code",
   "execution_count": 1,
   "id": "6836077f",
   "metadata": {},
   "outputs": [
    {
     "name": "stdout",
     "output_type": "stream",
     "text": [
      "Collecting numpy\n",
      "  Downloading numpy-2.3.2-cp313-cp313-manylinux_2_27_x86_64.manylinux_2_28_x86_64.whl.metadata (62 kB)\n",
      "Downloading numpy-2.3.2-cp313-cp313-manylinux_2_27_x86_64.manylinux_2_28_x86_64.whl (16.6 MB)\n",
      "\u001b[2K   \u001b[38;2;114;156;31m━━━━━━━━━━━━━━━━━━━━━━━━━━━━━━━━━━━━━━━━\u001b[0m \u001b[32m16.6/16.6 MB\u001b[0m \u001b[31m17.0 MB/s\u001b[0m eta \u001b[36m0:00:00\u001b[0m31m16.4 MB/s\u001b[0m eta \u001b[36m0:00:01\u001b[0m\n",
      "\u001b[?25hInstalling collected packages: numpy\n",
      "Successfully installed numpy-2.3.2\n",
      "\n",
      "\u001b[1m[\u001b[0m\u001b[34;49mnotice\u001b[0m\u001b[1;39;49m]\u001b[0m\u001b[39;49m A new release of pip is available: \u001b[0m\u001b[31;49m25.0\u001b[0m\u001b[39;49m -> \u001b[0m\u001b[32;49m25.2\u001b[0m\n",
      "\u001b[1m[\u001b[0m\u001b[34;49mnotice\u001b[0m\u001b[1;39;49m]\u001b[0m\u001b[39;49m To update, run: \u001b[0m\u001b[32;49mpip install --upgrade pip\u001b[0m\n"
     ]
    }
   ],
   "source": [
    "!pip install numpy"
   ]
  },
  {
   "cell_type": "code",
   "execution_count": 3,
   "id": "8b2fac3a",
   "metadata": {},
   "outputs": [
    {
     "name": "stdout",
     "output_type": "stream",
     "text": [
      "2.3.2\n"
     ]
    }
   ],
   "source": [
    "import numpy as np\n",
    "\n",
    "print(np.__version__)"
   ]
  },
  {
   "cell_type": "code",
   "execution_count": null,
   "id": "4a766011",
   "metadata": {},
   "outputs": [
    {
     "name": "stdout",
     "output_type": "stream",
     "text": [
      "[1 2 3 4 5]\n",
      "shape (5,)\n"
     ]
    }
   ],
   "source": [
    "arr1 = np.array([1, 2, 3, 4, 5]) # 1D array\n",
    "print(arr1)\n",
    "print('shape', arr1.shape)"
   ]
  },
  {
   "cell_type": "code",
   "execution_count": null,
   "id": "45beac92",
   "metadata": {},
   "outputs": [
    {
     "name": "stdout",
     "output_type": "stream",
     "text": [
      "[[ 1  2  3  4  5]\n",
      " [ 6  7  8  9 10]]\n",
      "shape (2, 5)\n"
     ]
    }
   ],
   "source": [
    "arr2 = np.array([[1, 2, 3, 4, 5], [6, 7, 8, 9, 10]]) # 2D array\n",
    "print(arr2)\n",
    "print('shape', arr2.shape)"
   ]
  },
  {
   "cell_type": "code",
   "execution_count": 10,
   "id": "8ecf1b2c",
   "metadata": {},
   "outputs": [
    {
     "data": {
      "text/plain": [
       "array([[1., 1., 1., 1.],\n",
       "       [1., 1., 1., 1.],\n",
       "       [1., 1., 1., 1.]])"
      ]
     },
     "execution_count": 10,
     "metadata": {},
     "output_type": "execute_result"
    }
   ],
   "source": [
    "np.ones((3, 4)) # 3 rows, 4 columns"
   ]
  },
  {
   "cell_type": "code",
   "execution_count": 12,
   "id": "ce995a15",
   "metadata": {},
   "outputs": [
    {
     "data": {
      "text/plain": [
       "array([[1],\n",
       "       [3],\n",
       "       [5],\n",
       "       [7],\n",
       "       [9]])"
      ]
     },
     "execution_count": 12,
     "metadata": {},
     "output_type": "execute_result"
    }
   ],
   "source": [
    "np.arange(1, 10, 2).reshape(5, 1) # 3 rows, 3 columns"
   ]
  },
  {
   "cell_type": "code",
   "execution_count": 13,
   "id": "f8677114",
   "metadata": {},
   "outputs": [
    {
     "data": {
      "text/plain": [
       "array([[1., 0., 0.],\n",
       "       [0., 1., 0.],\n",
       "       [0., 0., 1.]])"
      ]
     },
     "execution_count": 13,
     "metadata": {},
     "output_type": "execute_result"
    }
   ],
   "source": [
    "np.eye(3) # 3x3 identity matrix"
   ]
  },
  {
   "cell_type": "code",
   "execution_count": 14,
   "id": "98107c1d",
   "metadata": {},
   "outputs": [
    {
     "name": "stdout",
     "output_type": "stream",
     "text": [
      "[11 22 33 44 55]\n",
      "[1.         1.41421356 1.73205081 2.         2.23606798]\n"
     ]
    }
   ],
   "source": [
    "# Vectorized operations\n",
    "arr3 = np.array([1, 2, 3, 4, 5])\n",
    "arr4 = np.array([10, 20, 30, 40, 50])\n",
    "print(arr3 + arr4)  # Element-wise addition\n",
    "\n",
    "# Universal functions\n",
    "print(np.sqrt(arr3))  # Square root of each element"
   ]
  },
  {
   "cell_type": "code",
   "execution_count": 15,
   "id": "60abe111",
   "metadata": {},
   "outputs": [
    {
     "name": "stdout",
     "output_type": "stream",
     "text": [
      "2\n",
      "[2 5 8]\n",
      "[4 5 6]\n",
      "[[4 5]\n",
      " [7 8]]\n"
     ]
    }
   ],
   "source": [
    "# Array slicing and indexing\n",
    "\n",
    "arr5 = np.array([[1, 2, 3], [4, 5, 6], [7, 8, 9]])\n",
    "print(arr5[0, 1])  # Accessing element at row 0, column 1\n",
    "print(arr5[:, 1])  # Accessing all rows, column 1\n",
    "print(arr5[1, :])  # Accessing row 1, all columns\n",
    "print(arr5[1:3, 0:2])  # Slicing rows 1 to 2, columns 0 to 1  "
   ]
  },
  {
   "cell_type": "code",
   "execution_count": null,
   "id": "2b539961",
   "metadata": {},
   "outputs": [
    {
     "name": "stdout",
     "output_type": "stream",
     "text": [
      "3.0\n",
      "1.4142135623730951\n",
      "[-1.41421356 -0.70710678  0.          0.70710678  1.41421356]\n"
     ]
    }
   ],
   "source": [
    "# some statistical concepts\n",
    "\n",
    "# mean - 0 and std - 1 and calculate normalized array\n",
    "\n",
    "arr6 = np.array([1, 2, 3, 4, 5])\n",
    "print(np.mean(arr6))  # Mean\n",
    "print(np.std(arr6))   # Standard deviation\n",
    "\n",
    "normalized_arr = (arr6 - np.mean(arr6)) / np.std(arr6)\n",
    "print(normalized_arr)  # Normalized array with mean 0 and std 1"
   ]
  },
  {
   "cell_type": "code",
   "execution_count": 19,
   "id": "0bc8113c",
   "metadata": {},
   "outputs": [
    {
     "name": "stdout",
     "output_type": "stream",
     "text": [
      "[False False False  True  True]\n",
      "[4 5]\n",
      "['not greater than 3' 'not greater than 3' 'not greater than 3'\n",
      " 'greater than 3' 'greater than 3']\n"
     ]
    }
   ],
   "source": [
    "# logical operations\n",
    "\n",
    "arr7 = np.array([1, 2, 3, 4, 5])\n",
    "\n",
    "print(arr7 > 3)  # Element-wise comparison\n",
    "print(arr7[arr7 > 3])  # Filtering elements greater than 3\n",
    "print(np.where(arr7 > 3, 'greater than 3', 'not greater than 3'))  # Conditional replacement\n"
   ]
  },
  {
   "cell_type": "code",
   "execution_count": null,
   "id": "d4704225",
   "metadata": {},
   "outputs": [],
   "source": []
  }
 ],
 "metadata": {
  "kernelspec": {
   "display_name": ".venv (3.13.2)",
   "language": "python",
   "name": "python3"
  },
  "language_info": {
   "codemirror_mode": {
    "name": "ipython",
    "version": 3
   },
   "file_extension": ".py",
   "mimetype": "text/x-python",
   "name": "python",
   "nbconvert_exporter": "python",
   "pygments_lexer": "ipython3",
   "version": "3.13.2"
  }
 },
 "nbformat": 4,
 "nbformat_minor": 5
}
