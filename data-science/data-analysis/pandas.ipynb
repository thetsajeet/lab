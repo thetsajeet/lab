{
 "cells": [
  {
   "cell_type": "markdown",
   "id": "e3dcdd71",
   "metadata": {},
   "source": [
    "# Pandas\n",
    "\n",
    "Pandas for data manipulation.\n",
    "Series for 1d\n",
    "Dataframe for 2d"
   ]
  },
  {
   "cell_type": "code",
   "execution_count": 1,
   "id": "fd79cad7",
   "metadata": {},
   "outputs": [
    {
     "name": "stdout",
     "output_type": "stream",
     "text": [
      "Collecting pandas\n",
      "  Downloading pandas-2.3.1-cp313-cp313-manylinux_2_17_x86_64.manylinux2014_x86_64.whl.metadata (91 kB)\n",
      "Requirement already satisfied: numpy>=1.26.0 in /home/aj7/Documents/workspace/github.com/thetsajeet/lab/data-science/.venv/lib/python3.13/site-packages (from pandas) (2.3.2)\n",
      "Requirement already satisfied: python-dateutil>=2.8.2 in /home/aj7/Documents/workspace/github.com/thetsajeet/lab/data-science/.venv/lib/python3.13/site-packages (from pandas) (2.9.0.post0)\n",
      "Collecting pytz>=2020.1 (from pandas)\n",
      "  Downloading pytz-2025.2-py2.py3-none-any.whl.metadata (22 kB)\n",
      "Collecting tzdata>=2022.7 (from pandas)\n",
      "  Downloading tzdata-2025.2-py2.py3-none-any.whl.metadata (1.4 kB)\n",
      "Requirement already satisfied: six>=1.5 in /home/aj7/Documents/workspace/github.com/thetsajeet/lab/data-science/.venv/lib/python3.13/site-packages (from python-dateutil>=2.8.2->pandas) (1.17.0)\n",
      "Downloading pandas-2.3.1-cp313-cp313-manylinux_2_17_x86_64.manylinux2014_x86_64.whl (12.1 MB)\n",
      "\u001b[2K   \u001b[38;2;114;156;31m━━━━━━━━━━━━━━━━━━━━━━━━━━━━━━━━━━━━━━━━\u001b[0m \u001b[32m12.1/12.1 MB\u001b[0m \u001b[31m19.5 MB/s\u001b[0m eta \u001b[36m0:00:00\u001b[0m[36m0:00:01\u001b[0m eta \u001b[36m0:00:01\u001b[0m\n",
      "\u001b[?25hDownloading pytz-2025.2-py2.py3-none-any.whl (509 kB)\n",
      "Downloading tzdata-2025.2-py2.py3-none-any.whl (347 kB)\n",
      "Installing collected packages: pytz, tzdata, pandas\n",
      "Successfully installed pandas-2.3.1 pytz-2025.2 tzdata-2025.2\n",
      "\n",
      "\u001b[1m[\u001b[0m\u001b[34;49mnotice\u001b[0m\u001b[1;39;49m]\u001b[0m\u001b[39;49m A new release of pip is available: \u001b[0m\u001b[31;49m25.0\u001b[0m\u001b[39;49m -> \u001b[0m\u001b[32;49m25.2\u001b[0m\n",
      "\u001b[1m[\u001b[0m\u001b[34;49mnotice\u001b[0m\u001b[1;39;49m]\u001b[0m\u001b[39;49m To update, run: \u001b[0m\u001b[32;49mpip install --upgrade pip\u001b[0m\n"
     ]
    }
   ],
   "source": [
    "!pip install pandas"
   ]
  },
  {
   "cell_type": "code",
   "execution_count": 3,
   "id": "bdfbee83",
   "metadata": {},
   "outputs": [
    {
     "name": "stdout",
     "output_type": "stream",
     "text": [
      "2.3.1\n"
     ]
    }
   ],
   "source": [
    "import pandas as pd\n",
    "\n",
    "print(pd.__version__ )"
   ]
  },
  {
   "cell_type": "code",
   "execution_count": 6,
   "id": "155dfca0",
   "metadata": {},
   "outputs": [
    {
     "name": "stdout",
     "output_type": "stream",
     "text": [
      "0    1\n",
      "1    2\n",
      "2    3\n",
      "3    4\n",
      "4    5\n",
      "dtype: int64\n",
      "<class 'pandas.core.series.Series'>\n",
      "a    1\n",
      "b    2\n",
      "c    3\n",
      "dtype: int64\n"
     ]
    }
   ],
   "source": [
    "# Series\n",
    "\n",
    "s = pd.Series([1, 2, 3, 4, 5])\n",
    "print(s)\n",
    "print(type(s))\n",
    "\n",
    "dict_s = pd.Series({'a': 1, 'b': 2, 'c': 3})\n",
    "print(dict_s)"
   ]
  },
  {
   "cell_type": "code",
   "execution_count": 8,
   "id": "464f5100",
   "metadata": {},
   "outputs": [
    {
     "name": "stdout",
     "output_type": "stream",
     "text": [
      "{'Name': ['Alice', 'Bob', 'Charlie'], 'Age': [25, 30, 35], 'City': ['New York', 'Los Angeles', 'Chicago']}\n",
      "      Name  Age         City\n",
      "0    Alice   25     New York\n",
      "1      Bob   30  Los Angeles\n",
      "2  Charlie   35      Chicago\n",
      "<class 'pandas.core.frame.DataFrame'>\n"
     ]
    }
   ],
   "source": [
    "# Dataframe\n",
    "\n",
    "# list of values for a key\n",
    "data = {\n",
    "    \"Name\": [\"Alice\", \"Bob\", \"Charlie\"],\n",
    "    \"Age\": [25, 30, 35],\n",
    "    \"City\": [\"New York\", \"Los Angeles\", \"Chicago\"],\n",
    "}\n",
    "\n",
    "print(data)\n",
    "\n",
    "df = pd.DataFrame(data)\n",
    "print(df)\n",
    "print(type(df))"
   ]
  },
  {
   "cell_type": "code",
   "execution_count": 9,
   "id": "b4d4ab04",
   "metadata": {},
   "outputs": [
    {
     "name": "stdout",
     "output_type": "stream",
     "text": [
      "      Name  Age          City\n",
      "0    Alice   25      New York\n",
      "1      Bob   30  Los Angeles \n",
      "2  Charlie   35       Chicago\n",
      "<class 'pandas.core.frame.DataFrame'>\n"
     ]
    }
   ],
   "source": [
    "# list of dictionaries\n",
    "\n",
    "data2 = [\n",
    "    {\"Name\": \"Alice\", \"Age\": 25, \"City\": \"New York\"},\n",
    "    {\"Name\": \"Bob\", \"Age\": 30, \"City\": \"Los Angeles \"},\n",
    "    {\"Name\": \"Charlie\", \"Age\": 35, \"City\": \"Chicago\"},\n",
    "]\n",
    "df2 = pd.DataFrame(data2)\n",
    "print(df2)\n",
    "print(type(df2))"
   ]
  },
  {
   "cell_type": "code",
   "execution_count": 12,
   "id": "bab57652",
   "metadata": {},
   "outputs": [
    {
     "name": "stdout",
     "output_type": "stream",
     "text": [
      "     Transaction ID        Date Product Category  \\\n",
      "0             10001  2024-01-01      Electronics   \n",
      "1             10002  2024-01-02  Home Appliances   \n",
      "2             10003  2024-01-03         Clothing   \n",
      "3             10004  2024-01-04            Books   \n",
      "4             10005  2024-01-05  Beauty Products   \n",
      "..              ...         ...              ...   \n",
      "235           10236  2024-08-23  Home Appliances   \n",
      "236           10237  2024-08-24         Clothing   \n",
      "237           10238  2024-08-25            Books   \n",
      "238           10239  2024-08-26  Beauty Products   \n",
      "239           10240  2024-08-27           Sports   \n",
      "\n",
      "                                        Product Name  Units Sold  Unit Price  \\\n",
      "0                                      iPhone 14 Pro           2      999.99   \n",
      "1                                   Dyson V11 Vacuum           1      499.99   \n",
      "2                                   Levi's 501 Jeans           3       69.99   \n",
      "3                                  The Da Vinci Code           4       15.99   \n",
      "4                            Neutrogena Skincare Set           1       89.99   \n",
      "..                                               ...         ...         ...   \n",
      "235  Nespresso Vertuo Next Coffee and Espresso Maker           1      159.99   \n",
      "236                        Nike Air Force 1 Sneakers           3       90.00   \n",
      "237           The Handmaid's Tale by Margaret Atwood           3       10.99   \n",
      "238             Sunday Riley Luna Sleeping Night Oil           1       55.00   \n",
      "239                       Yeti Rambler 20 oz Tumbler           2       29.99   \n",
      "\n",
      "     Total Revenue         Region Payment Method  \n",
      "0          1999.98  North America    Credit Card  \n",
      "1           499.99         Europe         PayPal  \n",
      "2           209.97           Asia     Debit Card  \n",
      "3            63.96  North America    Credit Card  \n",
      "4            89.99         Europe         PayPal  \n",
      "..             ...            ...            ...  \n",
      "235         159.99         Europe         PayPal  \n",
      "236         270.00           Asia     Debit Card  \n",
      "237          32.97  North America    Credit Card  \n",
      "238          55.00         Europe         PayPal  \n",
      "239          59.98           Asia    Credit Card  \n",
      "\n",
      "[240 rows x 9 columns]\n"
     ]
    }
   ],
   "source": [
    "# from csv file\n",
    "\n",
    "df3 = pd.read_csv(\"sales_data.csv\")\n",
    "print(df3)"
   ]
  },
  {
   "cell_type": "code",
   "execution_count": 25,
   "id": "0a2aab73",
   "metadata": {},
   "outputs": [
    {
     "name": "stdout",
     "output_type": "stream",
     "text": [
      "   Transaction ID        Date Product Category      Product Name  Units Sold  \\\n",
      "0           10001  2024-01-01      Electronics     iPhone 14 Pro           2   \n",
      "1           10002  2024-01-02  Home Appliances  Dyson V11 Vacuum           1   \n",
      "2           10003  2024-01-03         Clothing  Levi's 501 Jeans           3   \n",
      "\n",
      "   Unit Price  Total Revenue         Region Payment Method  \n",
      "0      999.99        1999.98  North America    Credit Card  \n",
      "1      499.99         499.99         Europe         PayPal  \n",
      "2       69.99         209.97           Asia     Debit Card  \n"
     ]
    }
   ],
   "source": [
    "# first 3 rows\n",
    "print(df3.head(3))"
   ]
  },
  {
   "cell_type": "code",
   "execution_count": 15,
   "id": "ab735bbf",
   "metadata": {},
   "outputs": [
    {
     "data": {
      "text/plain": [
       "0      2024-01-01\n",
       "1      2024-01-02\n",
       "2      2024-01-03\n",
       "3      2024-01-04\n",
       "4      2024-01-05\n",
       "          ...    \n",
       "235    2024-08-23\n",
       "236    2024-08-24\n",
       "237    2024-08-25\n",
       "238    2024-08-26\n",
       "239    2024-08-27\n",
       "Name: Date, Length: 240, dtype: object"
      ]
     },
     "execution_count": 15,
     "metadata": {},
     "output_type": "execute_result"
    }
   ],
   "source": [
    "df3[\"Date\"] # print columns as series"
   ]
  },
  {
   "cell_type": "code",
   "execution_count": null,
   "id": "8e3856e2",
   "metadata": {},
   "outputs": [
    {
     "data": {
      "text/plain": [
       "Transaction ID              10001\n",
       "Date                   2024-01-01\n",
       "Product Category      Electronics\n",
       "Product Name        iPhone 14 Pro\n",
       "Units Sold                      2\n",
       "Unit Price                 999.99\n",
       "Total Revenue             1999.98\n",
       "Region              North America\n",
       "Payment Method        Credit Card\n",
       "Name: 0, dtype: object"
      ]
     },
     "execution_count": 16,
     "metadata": {},
     "output_type": "execute_result"
    }
   ],
   "source": [
    "df3.loc[0] # first row as series from index label"
   ]
  },
  {
   "cell_type": "code",
   "execution_count": null,
   "id": "c30fee92",
   "metadata": {},
   "outputs": [
    {
     "data": {
      "text/plain": [
       "Transaction ID              10001\n",
       "Date                   2024-01-01\n",
       "Product Category      Electronics\n",
       "Product Name        iPhone 14 Pro\n",
       "Units Sold                      2\n",
       "Unit Price                 999.99\n",
       "Total Revenue             1999.98\n",
       "Region              North America\n",
       "Payment Method        Credit Card\n",
       "Name: 0, dtype: object"
      ]
     },
     "execution_count": 19,
     "metadata": {},
     "output_type": "execute_result"
    }
   ],
   "source": [
    "df3.iloc[0] # first row as series from integer position"
   ]
  },
  {
   "cell_type": "code",
   "execution_count": null,
   "id": "f9211970",
   "metadata": {},
   "outputs": [
    {
     "name": "stderr",
     "output_type": "stream",
     "text": [
      "/tmp/ipykernel_52577/1814316564.py:1: FutureWarning: Series.__getitem__ treating keys as positions is deprecated. In a future version, integer keys will always be treated as labels (consistent with DataFrame behavior). To access a value by position, use `ser.iloc[pos]`\n",
      "  df3.iloc[0][2]\n"
     ]
    },
    {
     "data": {
      "text/plain": [
       "'Electronics'"
      ]
     },
     "execution_count": 21,
     "metadata": {},
     "output_type": "execute_result"
    }
   ],
   "source": [
    "df3.iloc[0][2] # cell"
   ]
  },
  {
   "cell_type": "code",
   "execution_count": 22,
   "id": "b2fdfc8c",
   "metadata": {},
   "outputs": [
    {
     "data": {
      "text/plain": [
       "'2024-01-01'"
      ]
     },
     "execution_count": 22,
     "metadata": {},
     "output_type": "execute_result"
    }
   ],
   "source": [
    "df3.at[0, \"Date\"] # cell by index label"
   ]
  },
  {
   "cell_type": "code",
   "execution_count": 26,
   "id": "bbf923a0",
   "metadata": {},
   "outputs": [
    {
     "data": {
      "text/plain": [
       "'Electronics'"
      ]
     },
     "execution_count": 26,
     "metadata": {},
     "output_type": "execute_result"
    }
   ],
   "source": [
    "df3.iat[0, 2] # cell by integer position"
   ]
  },
  {
   "cell_type": "code",
   "execution_count": 28,
   "id": "bc57481a",
   "metadata": {},
   "outputs": [
    {
     "data": {
      "text/plain": [
       "Index(['Transaction ID', 'Date', 'Product Category', 'Product Name',\n",
       "       'Units Sold', 'Unit Price', 'Total Revenue', 'Region',\n",
       "       'Payment Method'],\n",
       "      dtype='object')"
      ]
     },
     "execution_count": 28,
     "metadata": {},
     "output_type": "execute_result"
    }
   ],
   "source": [
    "df3.columns # print columns"
   ]
  },
  {
   "cell_type": "code",
   "execution_count": 31,
   "id": "075cabb9",
   "metadata": {},
   "outputs": [],
   "source": [
    "df3['status'] = df3['Units Sold'].apply(lambda x: 'High' if x > 100 else 'Low')"
   ]
  },
  {
   "cell_type": "code",
   "execution_count": 33,
   "id": "63ec0b22",
   "metadata": {},
   "outputs": [
    {
     "data": {
      "text/plain": [
       "0    Low\n",
       "1    Low\n",
       "2    Low\n",
       "3    Low\n",
       "4    Low\n",
       "Name: status, dtype: object"
      ]
     },
     "execution_count": 33,
     "metadata": {},
     "output_type": "execute_result"
    }
   ],
   "source": [
    "df3[\"status\"].head()"
   ]
  },
  {
   "cell_type": "code",
   "execution_count": 34,
   "id": "03c2db15",
   "metadata": {},
   "outputs": [],
   "source": [
    "df3.drop('status', axis=1, inplace=True) # drop column"
   ]
  },
  {
   "cell_type": "code",
   "execution_count": 35,
   "id": "0631356b",
   "metadata": {},
   "outputs": [
    {
     "data": {
      "text/plain": [
       "Index(['Transaction ID', 'Date', 'Product Category', 'Product Name',\n",
       "       'Units Sold', 'Unit Price', 'Total Revenue', 'Region',\n",
       "       'Payment Method'],\n",
       "      dtype='object')"
      ]
     },
     "execution_count": 35,
     "metadata": {},
     "output_type": "execute_result"
    }
   ],
   "source": [
    "df3.columns"
   ]
  },
  {
   "cell_type": "code",
   "execution_count": 36,
   "id": "111bf8cd",
   "metadata": {},
   "outputs": [
    {
     "data": {
      "text/html": [
       "<div>\n",
       "<style scoped>\n",
       "    .dataframe tbody tr th:only-of-type {\n",
       "        vertical-align: middle;\n",
       "    }\n",
       "\n",
       "    .dataframe tbody tr th {\n",
       "        vertical-align: top;\n",
       "    }\n",
       "\n",
       "    .dataframe thead th {\n",
       "        text-align: right;\n",
       "    }\n",
       "</style>\n",
       "<table border=\"1\" class=\"dataframe\">\n",
       "  <thead>\n",
       "    <tr style=\"text-align: right;\">\n",
       "      <th></th>\n",
       "      <th>Transaction ID</th>\n",
       "      <th>Units Sold</th>\n",
       "      <th>Unit Price</th>\n",
       "      <th>Total Revenue</th>\n",
       "    </tr>\n",
       "  </thead>\n",
       "  <tbody>\n",
       "    <tr>\n",
       "      <th>count</th>\n",
       "      <td>240.00000</td>\n",
       "      <td>240.000000</td>\n",
       "      <td>240.000000</td>\n",
       "      <td>240.000000</td>\n",
       "    </tr>\n",
       "    <tr>\n",
       "      <th>mean</th>\n",
       "      <td>10120.50000</td>\n",
       "      <td>2.158333</td>\n",
       "      <td>236.395583</td>\n",
       "      <td>335.699375</td>\n",
       "    </tr>\n",
       "    <tr>\n",
       "      <th>std</th>\n",
       "      <td>69.42622</td>\n",
       "      <td>1.322454</td>\n",
       "      <td>429.446695</td>\n",
       "      <td>485.804469</td>\n",
       "    </tr>\n",
       "    <tr>\n",
       "      <th>min</th>\n",
       "      <td>10001.00000</td>\n",
       "      <td>1.000000</td>\n",
       "      <td>6.500000</td>\n",
       "      <td>6.500000</td>\n",
       "    </tr>\n",
       "    <tr>\n",
       "      <th>25%</th>\n",
       "      <td>10060.75000</td>\n",
       "      <td>1.000000</td>\n",
       "      <td>29.500000</td>\n",
       "      <td>62.965000</td>\n",
       "    </tr>\n",
       "    <tr>\n",
       "      <th>50%</th>\n",
       "      <td>10120.50000</td>\n",
       "      <td>2.000000</td>\n",
       "      <td>89.990000</td>\n",
       "      <td>179.970000</td>\n",
       "    </tr>\n",
       "    <tr>\n",
       "      <th>75%</th>\n",
       "      <td>10180.25000</td>\n",
       "      <td>3.000000</td>\n",
       "      <td>249.990000</td>\n",
       "      <td>399.225000</td>\n",
       "    </tr>\n",
       "    <tr>\n",
       "      <th>max</th>\n",
       "      <td>10240.00000</td>\n",
       "      <td>10.000000</td>\n",
       "      <td>3899.990000</td>\n",
       "      <td>3899.990000</td>\n",
       "    </tr>\n",
       "  </tbody>\n",
       "</table>\n",
       "</div>"
      ],
      "text/plain": [
       "       Transaction ID  Units Sold   Unit Price  Total Revenue\n",
       "count       240.00000  240.000000   240.000000     240.000000\n",
       "mean      10120.50000    2.158333   236.395583     335.699375\n",
       "std          69.42622    1.322454   429.446695     485.804469\n",
       "min       10001.00000    1.000000     6.500000       6.500000\n",
       "25%       10060.75000    1.000000    29.500000      62.965000\n",
       "50%       10120.50000    2.000000    89.990000     179.970000\n",
       "75%       10180.25000    3.000000   249.990000     399.225000\n",
       "max       10240.00000   10.000000  3899.990000    3899.990000"
      ]
     },
     "execution_count": 36,
     "metadata": {},
     "output_type": "execute_result"
    }
   ],
   "source": [
    "df3.describe() # summary statistics"
   ]
  },
  {
   "cell_type": "code",
   "execution_count": null,
   "id": "7baa1d2d",
   "metadata": {},
   "outputs": [],
   "source": []
  }
 ],
 "metadata": {
  "kernelspec": {
   "display_name": ".venv (3.13.2)",
   "language": "python",
   "name": "python3"
  },
  "language_info": {
   "codemirror_mode": {
    "name": "ipython",
    "version": 3
   },
   "file_extension": ".py",
   "mimetype": "text/x-python",
   "name": "python",
   "nbconvert_exporter": "python",
   "pygments_lexer": "ipython3",
   "version": "3.13.2"
  }
 },
 "nbformat": 4,
 "nbformat_minor": 5
}
